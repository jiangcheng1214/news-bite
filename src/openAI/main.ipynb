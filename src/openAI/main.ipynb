{
    "cells": [
        {
            "cell_type": "code",
            "execution_count": 1,
            "metadata": {},
            "outputs": [
                {
                    "data": {
                        "text/plain": [
                            "True"
                        ]
                    },
                    "execution_count": 1,
                    "metadata": {},
                    "output_type": "execute_result"
                }
            ],
            "source": [
                "import os\n",
                "import re\n",
                "import openai\n",
                "import json\n",
                "from dotenv import load_dotenv\n",
                "load_dotenv()\n"
            ]
        },
        {
            "cell_type": "code",
            "execution_count": 2,
            "metadata": {},
            "outputs": [],
            "source": [
                "openai.api_key = os.getenv(\"OPENAI_API_KEY\")\n",
                "# openai.Model.list()"
            ]
        },
        {
            "cell_type": "code",
            "execution_count": 3,
            "metadata": {},
            "outputs": [],
            "source": [
                "def read_jsons_file(file_path: str):\n",
                "    result = []\n",
                "    # Open the JSON file in read mode\n",
                "    with open(file_path, 'r') as f:\n",
                "        # Loop through each line in the file\n",
                "        for line in f:\n",
                "            # Parse the JSON object from the line\n",
                "            data = json.loads(line)\n",
                "            result.append(data)\n",
                "    return result\n",
                "            "
            ]
        },
        {
            "cell_type": "code",
            "execution_count": 11,
            "metadata": {},
            "outputs": [],
            "source": [
                "def davinci_news_summarize(text):\n",
                "    response = openai.Completion.create(\n",
                "        model=\"text-davinci-003\",\n",
                "        prompt=f\"Please help me summarize following news:\\n{text}\",\n",
                "        temperature=1,\n",
                "        n=1,\n",
                "        max_tokens=2048,\n",
                "        presence_penalty=0,\n",
                "        frequency_penalty=0\n",
                "    )\n",
                "    return response\n",
                "\n",
                "\n",
                "def gpt3_5_news_summarize(text):\n",
                "    response = openai.ChatCompletion.create(\n",
                "        model=\"gpt-3.5-turbo\",\n",
                "        messages=[\n",
                "            {\"role\": \"system\" , \"content\": \"As a helpful assitant that summarizes news contents, you will rephrase but not create contents.\"},\n",
                "            {\"role\": \"user\",\"content\": f\"Summarize this news content:\\n{text}\"}\n",
                "        ],\n",
                "        temperature=1,\n",
                "        n=1,\n",
                "        presence_penalty=0,\n",
                "        frequency_penalty=0\n",
                "    )\n",
                "    return response\n",
                "\n",
                "\n",
                "def gpt3_5_tweets_summarize(tweets, topic):\n",
                "    tweets_by_line = '\\n'.join(tweets)\n",
                "    system_setup_prompt = f\"Please act as a {topic} tweets analyzer and perform 3 things: \\\n",
                "             1. extract meaningful data from tweets ignoring referral program posts and questions\\\n",
                "             2. focus on government regulations and announcements from authoritative entities\\\n",
                "             3. provide a news style summary without meanioning twitter being the data source\"\n",
                "    response = openai.ChatCompletion.create(\n",
                "        model=\"gpt-3.5-turbo\",\n",
                "        messages=[\n",
                "            {\"role\": \"system\", \"content\": system_setup_prompt},\n",
                "            {\"role\": \"user\",\n",
                "                \"content\": f\"Summarize these tweets. These tweets start with author follower number, the larger the more impactful\\n{tweets_by_line}\"}\n",
                "        ],\n",
                "        temperature=1,\n",
                "        n=1,\n",
                "        presence_penalty=0,\n",
                "        frequency_penalty=0\n",
                "    )\n",
                "    return response\n",
                "\n"
            ]
        },
        {
            "cell_type": "code",
            "execution_count": 12,
            "metadata": {},
            "outputs": [],
            "source": [
                "json_list = read_jsons_file('../../data/financialTweets.jsons')\n",
                "tweet_list = []\n",
                "for i in range(len(json_list)):\n",
                "    text = json_list[i]['tweet']['text']\n",
                "    link_free_text = re.sub(r'http\\S+', '', text)\n",
                "    string_representation_tweet = f\"{json_list[i]['authorMetadata']['public_metrics']['followers_count']} {link_free_text}\".replace(\n",
                "        \"\\n\", \" \")\n",
                "    # info(string_representation_tweet)\n",
                "    tweet_list.append(string_representation_tweet)"
            ]
        },
        {
            "cell_type": "code",
            "execution_count": 13,
            "metadata": {},
            "outputs": [
                {
                    "name": "stdout",
                    "output_type": "stream",
                    "text": [
                        "49618 𝗡𝗛𝗦 𝗽𝗮𝘆 𝗿𝗶𝘀𝗲 𝗱𝘄𝗮𝗿𝗳𝗲𝗱 𝗯𝘆 𝗮𝘀𝘁𝗿𝗼𝗻𝗼𝗺𝗶𝗰𝗮𝗹 𝗹𝗶𝘃𝗶𝗻𝗴 𝗰𝗼𝘀𝘁𝘀 𝗮𝘀 𝗶𝗻𝗳𝗹𝗮𝘁𝗶𝗼𝗻 𝗵𝗶𝘁𝘀 𝟭𝟬.𝟰%. The pay offer sits at just under half the current rate of inflation.   Read more ➡️  \n",
                        "159181 South Africa’s inflation rate quickened to 7% in February, for the first time in months, as the annual inflation rate for food increased to near 14-year highs.  #Moneyweb #ConsumerInflation @NtandoThukwana  \n",
                        "1091203 Alpha Managers | Expect the market to remain sideways but valuations are looking comforting now, says Gautam Sinha Roy of @ICICIPruLife. Tells @_prashantnair, @Reematendulkar @SurabhiUpadhyay &amp; @nigel__dsouza that they are bullish on @HDFC_Bank, @Infosys, #Reliance &amp; @HUL_News \n",
                        "302937 Germany's Economic Council, called Sachverständigenrat, ups 2023 GDP growth from -0.2 to +0.2%, above consensus. Sees 1.3% GDP growth in 2024. Scholz’s advisers see Germany’s ann #inflation rate at 6.6% in 2023, down only marginally from 6.9% in 2022 before it slows to 3% in 2024 \n",
                        "5829 When @Dataminr news alert credits a financial news service blog for an item @freep posted nearly seven hours earlier.   via @freepautos @Ford #manufacturing #Automotive #quality\n",
                        "21215 Why tech won't replace people, and offering reassurance in uncertain times, Nutmeg and Chase UK CEO, Sanjiv Somani, talks to Financial News about ambitions for the future  [Capital at risk] \n",
                        "5001 Marcel Rohner, who was UBS boss during the financial crisis, reckons Switzerland's reputation has been \"affected\" but \"not destroyed\". And also that, far from moving slowly, regulators were simply overtaken by events that began with Silicon Valley Bank 🙄  \n",
                        "49719 🛍 Hades, Black Panther, Wakanda Forever and Miss Marvel Loungefly bags are 30% off at Thunder Mesa Mercantile until April 19, while stocks last (AP discount applicable on top): \n",
                        "8670 Some unwelcome ONS data this morning: 📈CPI rose to 10.4% in Feb (9.9% had been expected 🛒Food price inflation hit 18.3% - highest since Aug 1977 📈'Core-CPI' accelerated. 🏦Makes another interest rate hike more likely tomorrow...  \n",
                        "5021 #JustReleased | We are excited to bring you the second Volume of our financial services knowledge series on IFRS 17. In Volume I, we went through an overview of IFRS 17. This Volume talks about measurement models of IFRS 17. The General Measurement Model (GMM) is a ‘default’ \n",
                        "1091203 3 out of 4 Indians in #rural areas fear their #savings will diminish in 10 years, while 1 in 2 is unable to manage daily expenses, finds the  India Protection Quotient (IPQ) survey conducted by Max Life Insurance (@MaxLifeIns) and @Kantar.  @jesciliak   \n",
                        "14873 UK inflation has actually RISEN to 10.4%   ‘The largest upward contributions to the monthly change …. came from restaurants and cafes, food, and clothing,’ Office for National Statistics says\n",
                        "4266745 We, through CBK, are having conversations to reinstate the Inter-bank Foreign Exchange Market, President Ruto says \n",
                        "112158 Our #UNDPinPakistan mission w/ @JanKellett &amp; Diana Almoro hosted a National Stakeholders’ Roundtable on Climate &amp; Disaster Insurance &amp; Risk Finance with key policy &amp; private sec stakeholders in Karachi, to discuss industry needs &amp; way forward to develop🇵🇰's insurance market (1/2) \n",
                        "273242 The MoF launched the Leaders Edge Programme to prepare young national leaders to lead the future of the government financial work.  #mofuae #news \n",
                        "1091203 Alpha Managers | Expect the market to remain sideways but valuations are looking comforting now, says Gautam Sinha Roy of @ICICIPruLife. Tells @_prashantnair, @Reematendulkar @SurabhiUpadhyay &amp; @nigel__dsouza that they are bullish on @HDFC_Bank, @Infosys, #Reliance and @HUL_News \n",
                        "13440 From ⁦@WomensBudgetGrp⁩: “Women are the shock absorbers of poverty, putting further financial pressures on this groupduring the cost of living crisis is unconscionable.” Hunt’s jobs drive will push mothers on benefits to work 30-hour week \n",
                        "27580 Finance minister meets supermarket chains, but no concrete steps taken to cut food prices \n",
                        "258845 .@KeEquityBank Kenya has been named the 4th strongest banking brand in the world. in the 2023 Brand Finance’s Brand Strength and Brand Value rankings. #NiajeNiaje \n",
                        "2293045 A spring renewal for Canada's housing market  \n",
                        "5153271 “We will work with the Fresh Produce Consortium of the UK to mirror the Spitalfields Concept in all our 47 County Aggregation &amp; Industrial Parks (CAIPS),” said Trade CS Moses Kuria while visiting Spitalfields Market in London which handles fresh produce imports from Kenya. \n",
                        "6036 👋SRB welcomes new Board Member, @TuijaTaos 👱‍♀️  @EU_SRB Chair Laboureix said: “Tuija has been a longstanding member of the SRM family, &amp; we are delighted to have the chance to benefit from her expertise &amp; experience in financial regulation &amp; resolution.” 🔵 \n",
                        "502290 What are 🐂 and 🐻?   👉 These are the most basic price movement patterns which can be encountered on any financial market, not just #Crypto.   Feeling #Bullish yet? 🚀  #LearnwithBitstamp: \n",
                        "1961642 Some 'rich' Kenyans can be mean. They even haggle over the price of chicken with desperate market women - Kendo \n",
                        "3575665 Panel Discussions on \"Reporting and data on nature-related financial information\" currently ongoing at the Second Sustainable Finance Working Group #SFWG meeting in #Udaipur under #G20India Presidency.  #SDGs #G20 @g20org \n",
                        "2044 Not to be *too* cynical (I know, I know), but in a few months inflation will start to be compared to a 2022 month where energy bills had rocketed, \"plummeting\" to 3-4%, and the government will claim it as a huge success and say job done on cost of living.\n",
                        "7334 Interesting surge in car finance-related complaints in the Financial Ombudsman's latest statistics \n",
                        "29936 It's decision day for the Federal Reserve's war on inflation. As the Fed tries to navigate a so-called \"soft landing\" it's now dealing with the recent turmoil in the banking system. @rachsieg joins @ChristineRomans \n",
                        "13857 Here's a check on European markets which are now trading higher despite 🔥🔥🔥UK inflation report @CNBC @CNBCi \n",
                        "14392 Want to hear a fresh perspective on savings? Comedian/Rapper Daniel “K-Star” Sikazwe shares valuable insights on financial advice and talks about what the theme “Plan your Money, Plant your Future” means to him. #FinancialLiteracyWeek #SaveEarnLearn \n",
                        "162981 Following the banking crisis in the US, the crypto market this week saw the $BTC price surging above $28,000 📈 and the daily exchange volume reaching almost $50 billion USD, an all-time high of the last 3 months.🚀  1/4🧵 \n",
                        "107768 Delhi Finance minister Kailash Gahlot presented a ₹78,800 crore budget for 2023-24 with the announcement of nine schemes as part of the G-20 preparations.  \n",
                        "193400 SA in crisis. Inflation increase, Food inflation increase and transport inflation increase. It's bad. We are now waiting for the @SAReserveBank complete the story.\n",
                        "18108 Thank you so much Datuk Seri Fadillah Yusof @PetraJayaMP for the interview opportunity with you, really had a robust conversation on nation building and the future outlook of our commodities market in Malaysia.   Always a proud Sarawakian! \n",
                        "31906 TUT to launch artificial intelligence hub  “The Al Institute of South Africa has the ability to reduce youth unemployment by informing the skills that will turn them into job creators and shapers of the 21st-century workplace.” Read more&gt;  \n",
                        "18212 US interest-rate decision today, no good options for the Fed: • \"Hike 50 basis points: markets would panic • Hike 25: add pressure to a stressed banking system • Hit pause: signal lack of faith in financial infrastructure &amp; own crisis management\" \n",
                        "1508664 Missing even a few days of a market rally could reduce your returns by more than half, evidence shows.  Bloomberg's @richhend explains what large investors are doing to avoid missing out on the next upswing  \n",
                        "3990122 The housing market is cooling — but tell that to the 300 people who lined up to see a one-bedroom house for sale in the middle of nowhere \n",
                        "15718 Food and non-alcoholic beverage inflation highest since 1977 at 18% y/y in February. 🥛 42% 🧀35% 🥚33% 🧈28% 🍝25% 🍨21% 🍞21% 🍯21% 🥔20% 🥕🥦🥒19% 🫖 18% 🍗18% ☕️17% 🥩16% 🐟16 🧃16% 🍕12% 🍫12% 🍚11%\n",
                        "13038 What are the advantages of buying 10 gram gold bars?  Buying 10 gram #goldbars provides excellent portfolio divisibility. But is it a good value way of buying #gold? \n",
                        "7334 Interesting surge in car finance-related complaints in the Financial Ombudsman's latest statistics. Also significant that 4 in 10 complaints were resolved in consumers' favour. \n",
                        "621031 As per analysts, these stocks show an upside potential in the range of 12% to 107%  \n",
                        "6798 Premarket: World stocks cautiously higher ahead of high stakes Fed decision \n",
                        "22304 The UK pensions minister says the country's defined contribution #pension schemes 'are underinvested' in illiquid assets.  Laura Trott was giving evidence to the parliamentary committees probing the LDI market crisis, last year.\n",
                        "205858 Football is now a global cultural monolith, but that has a lot of faultlines built into it, from state ownership to governance  Is football headed for a “Big Short” moment  \n",
                        "654960 New South Wales Premier Dominic Perrottet says families across New South Wales are doing it “incredibly tough” and they can provide cost-of-living relief due to their “strong financial management”.  \n",
                        "28757 With a surge in inflation, increasing poverty and inequalities; now more than ever we need social justice. This week we attend the @ILO Governing Body - you can find all our statements on our website!\n",
                        "1891096 Sheikh Jassim investing into #mufc could total £7bn. [@TeleFootball]\n",
                        "162981 Following the banking crisis in the US, the #crypto market this week saw the $BTC price surging above $28,000 📈 and the daily exchange volume reaching almost $50 billion USD, an all-time high of the last 3 months.🚀  1/4🧵 \n",
                        "253734 'If there’s good news to be found from today’s update, it’s that while the headline rate has risen again, it is still being offset by falls in energy prices.'  ✍️ Kate Andrews \n",
                        "{\n",
                        "  \"choices\": [\n",
                        "    {\n",
                        "      \"finish_reason\": \"stop\",\n",
                        "      \"index\": 0,\n",
                        "      \"message\": {\n",
                        "        \"content\": \"A financial news service has reported that the pay increase plan by NHSPS has not kept up with inflation, rising to a current rate of 10.4%. South Africa's food inflation rate has jumped to almost 14-year highs and its annual inflation rate hit 7% during February. Economic Council in Germany has made a prediction of a boost in Germany's 2023 GDP growth rate to 0.2%, while other financial regulations and resolutions are in progress. Additionally, there has been a rise in car finance-related complaints and noted that some UK pension schemes are underinvested in illiquid assets. Finally, in the crypto markets, $BTC showed a surge in price, reaching over $28,000.\",\n",
                        "        \"role\": \"assistant\"\n",
                        "      }\n",
                        "    }\n",
                        "  ],\n",
                        "  \"created\": 1679521059,\n",
                        "  \"id\": \"chatcmpl-6x0RHrUOZsRTz266ZoYFIzOKztMhu\",\n",
                        "  \"model\": \"gpt-3.5-turbo-0301\",\n",
                        "  \"object\": \"chat.completion\",\n",
                        "  \"usage\": {\n",
                        "    \"completion_tokens\": 146,\n",
                        "    \"prompt_tokens\": 2836,\n",
                        "    \"total_tokens\": 2982\n",
                        "  }\n",
                        "}\n"
                    ]
                }
            ],
            "source": [
                "info('\\n'.join(tweet_list[:50]))\n",
                "result = gpt3_5_tweets_summarize(tweet_list[:50], 'financial')\n",
                "info(result)\n"
            ]
        }
    ],
    "metadata": {
        "kernelspec": {
            "display_name": "base",
            "language": "python",
            "name": "python3"
        },
        "language_info": {
            "codemirror_mode": {
                "name": "ipython",
                "version": 3
            },
            "file_extension": ".py",
            "mimetype": "text/x-python",
            "name": "python",
            "nbconvert_exporter": "python",
            "pygments_lexer": "ipython3",
            "version": "3.9.13"
        },
        "orig_nbformat": 4,
        "vscode": {
            "interpreter": {
                "hash": "2a6dfe8377820d05336812b9721edafabce91a1f3ea4ec9edb239dd3b9b74a6c"
            }
        }
    },
    "nbformat": 4,
    "nbformat_minor": 2
}